{
 "metadata": {
  "language_info": {
   "codemirror_mode": {
    "name": "ipython",
    "version": 3
   },
   "file_extension": ".py",
   "mimetype": "text/x-python",
   "name": "python",
   "nbconvert_exporter": "python",
   "pygments_lexer": "ipython3",
   "version": "3.9.5"
  },
  "orig_nbformat": 2,
  "kernelspec": {
   "name": "python395jvsc74a57bd0ca585555a2867b459a38eaf8b2b47956aef7a6f770e52f1f5dfa1f8f05e57688",
   "display_name": "Python 3.9.5 64-bit"
  }
 },
 "nbformat": 4,
 "nbformat_minor": 2,
 "cells": [
  {
   "cell_type": "code",
   "execution_count": 9,
   "metadata": {},
   "outputs": [
    {
     "output_type": "stream",
     "name": "stdout",
     "text": [
      "IDELRPHGHLURV\nFABIOMEDEIROS\n"
     ]
    },
    {
     "output_type": "display_data",
     "data": {
      "text/plain": "Label(value='Texto plano')",
      "application/vnd.jupyter.widget-view+json": {
       "version_major": 2,
       "version_minor": 0,
       "model_id": "1ac30cac3e0443b2bfc57cdd9a842a5d"
      }
     },
     "metadata": {}
    },
    {
     "output_type": "display_data",
     "data": {
      "text/plain": "Text(value='')",
      "application/vnd.jupyter.widget-view+json": {
       "version_major": 2,
       "version_minor": 0,
       "model_id": "0ba7d1f8d9e2420092c3ac0aee1f33ae"
      }
     },
     "metadata": {}
    },
    {
     "output_type": "display_data",
     "data": {
      "text/plain": "Button(description='Cifrar', style=ButtonStyle())",
      "application/vnd.jupyter.widget-view+json": {
       "version_major": 2,
       "version_minor": 0,
       "model_id": "920416a8fd18436abb9f8381bb6bd9ca"
      }
     },
     "metadata": {}
    },
    {
     "output_type": "display_data",
     "data": {
      "text/plain": "Label(value='')",
      "application/vnd.jupyter.widget-view+json": {
       "version_major": 2,
       "version_minor": 0,
       "model_id": "4db7cac172284068bb0df21fc5fae68c"
      }
     },
     "metadata": {}
    },
    {
     "output_type": "display_data",
     "data": {
      "text/plain": "Label(value='')",
      "application/vnd.jupyter.widget-view+json": {
       "version_major": 2,
       "version_minor": 0,
       "model_id": "4db7cac172284068bb0df21fc5fae68c"
      }
     },
     "metadata": {}
    }
   ],
   "source": [
    "import caesar\n",
    "from ipywidgets import widgets\n",
    "\n",
    "cifra = caesar.Caesar()\n",
    "cifrado = cifra.encrypt('FABIO MEDEIROs')\n",
    "# criar uma caixa de texto para inserir o texto plano\n",
    "# caixa/dropdown com um valor para chave\n",
    "# botao para cifrar/decifrar\n",
    "# pode ser uma caixa com setas para um lado e outro ou dois botoes\n",
    "# com uma caixa embaixo e outra em cima\n",
    "# caixa texto\n",
    "lblcifrado = widgets.Label('Texto plano')\n",
    "display(lblcifrado)\n",
    "txttextoplano = widgets.Text()\n",
    "display(txttextoplano)\n",
    "btntxtplano = widgets.Button(description='Cifrar')\n",
    "display(btntxtplano)\n",
    "lblresult = widgets.Label()\n",
    "display(lblresult)\n",
    "\n",
    "def cifrar():\n",
    "    print('CLICADO')\n",
    "    lblresult.value = cifra.encrypt(txttextoplano.value)\n",
    "\n",
    "btntxtplano.on_click(cifrar)\n",
    "display(lblresult)"
   ]
  },
  {
   "cell_type": "code",
   "execution_count": null,
   "metadata": {},
   "outputs": [],
   "source": []
  }
 ]
}