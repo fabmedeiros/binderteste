{
 "metadata": {
  "language_info": {
   "codemirror_mode": {
    "name": "ipython",
    "version": 3
   },
   "file_extension": ".py",
   "mimetype": "text/x-python",
   "name": "python",
   "nbconvert_exporter": "python",
   "pygments_lexer": "ipython3",
   "version": "3.9.5"
  },
  "orig_nbformat": 2,
  "kernelspec": {
   "name": "python395jvsc74a57bd0ca585555a2867b459a38eaf8b2b47956aef7a6f770e52f1f5dfa1f8f05e57688",
   "display_name": "Python 3.9.5 64-bit"
  }
 },
 "nbformat": 4,
 "nbformat_minor": 2,
 "cells": [
  {
   "cell_type": "code",
   "execution_count": 4,
   "metadata": {},
   "outputs": [
    {
     "output_type": "stream",
     "name": "stdout",
     "text": [
      "IDELRPHGHLURV\nFABIOMEDEIROS\n"
     ]
    }
   ],
   "source": [
    "import caesar\n",
    "\n",
    "cifra = caesar.Caesar()\n",
    "cifrado = cifra.encrypt('FABIO MEDEIROs')\n",
    "print(cifrado)\n",
    "print(cifra.decrypt(cifrado))\n",
    "# criar uma caixa de texto para inserir o texto plano\n",
    "# caixa/dropdown com um valor para chave\n",
    "# botao para cifrar/decifrar\n",
    "# pode ser uma caixa com setas para um lado e outro ou dois botoes\n",
    "# com uma caixa embaixo e outra em cima"
   ]
  },
  {
   "cell_type": "code",
   "execution_count": null,
   "metadata": {},
   "outputs": [],
   "source": []
  }
 ]
}